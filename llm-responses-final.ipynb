{
 "cells": [
  {
   "cell_type": "code",
   "execution_count": 2,
   "metadata": {},
   "outputs": [],
   "source": [
    "import pandas as pd\n",
    "import numpy as np\n",
    "import json\n",
    "from together import Together\n",
    "import os\n",
    "from dotenv import load_dotenv\n",
    "from together import Together\n",
    "\n",
    "# Load API key from .env file\n",
    "load_dotenv()\n",
    "API_KEY = os.getenv(\"TOGETHER_API_KEY\")\n",
    "client = Together(api_key=API_KEY)"
   ]
  },
  {
   "cell_type": "code",
   "execution_count": 3,
   "metadata": {},
   "outputs": [],
   "source": [
    "physician_responded_posts_df = pd.read_csv(\"merged_physician_submissions_100.csv\")"
   ]
  },
  {
   "cell_type": "code",
   "execution_count": 19,
   "metadata": {},
   "outputs": [
    {
     "data": {
      "text/plain": [
       "0     1i7s0u\n",
       "1     1i7qst\n",
       "2     1i7hzo\n",
       "3     1iawxh\n",
       "4     1i9v7i\n",
       "       ...  \n",
       "95    1zx1g6\n",
       "96    1zx2l9\n",
       "97    1zxlol\n",
       "98    201zmh\n",
       "99    2027q3\n",
       "Name: clean_link_id, Length: 100, dtype: object"
      ]
     },
     "execution_count": 19,
     "metadata": {},
     "output_type": "execute_result"
    }
   ],
   "source": [
    "physician_responded_posts_df[\"clean_link_id\"]"
   ]
  },
  {
   "cell_type": "code",
   "execution_count": 17,
   "metadata": {},
   "outputs": [
    {
     "name": "stdout",
     "output_type": "stream",
     "text": [
      "Processed 100 posts. Results saved to 'final_generated_responses.csv'.\n"
     ]
    }
   ],
   "source": [
    "# Prepare storage for results\n",
    "results = []\n",
    "\n",
    "# Store output of models separately\n",
    "results_prompt1_dict = {}\n",
    "results_prompt2_dict = {}\n",
    "\n",
    "for _, post in physician_responded_posts_df.iterrows():\n",
    "    post_id = post.get(\"clean_link_id\", \"No id\")\n",
    "    title = post.get(\"title\", \"No title\")\n",
    "    link_flair_text = post.get(\"link_flair_text\", \"No flair\")\n",
    "    body = post.get(\"selftext\", \"No content available\")\n",
    "    num_comments = post.get(\"num_comments\", 0)\n",
    "    comment_score = post.get(\"score_comment\", 0)\n",
    "\n",
    "    # Prompt 1: Medical Diagnosis Suggestion\n",
    "    prompt1 = (\n",
    "        f\"Based on the following symptoms, list possible medical conditions and recommend \"\n",
    "        f\"the next diagnostic tests or evaluations a doctor might order. \"\n",
    "        f\"Symptoms: {body}. Include brief justifications for each recommendation.\"\n",
    "    )\n",
    "\n",
    "    response1 = client.chat.completions.create(\n",
    "        model=\"meta-llama/Llama-3.3-70B-Instruct-Turbo\",\n",
    "        messages=[{\"role\": \"user\", \"content\": prompt1}],\n",
    "    )\n",
    "\n",
    "    results_prompt1_dict[post_id] = response1.choices[0].message.content\n",
    "\n",
    "    # Prompt 2: Reddit-Style Physician Response\n",
    "    prompt2 = (\n",
    "        f\"You're replying to a Reddit post in r/AskDocs. The post asks: {body}. \"\n",
    "        f\"Write a comment like a real Reddit user who is a verified physician.\"\n",
    "    )\n",
    "\n",
    "    response2 = client.chat.completions.create(\n",
    "        model=\"meta-llama/Llama-3.3-70B-Instruct-Turbo\",\n",
    "        messages=[{\"role\": \"user\", \"content\": prompt2}],\n",
    "    )\n",
    "\n",
    "    results_prompt2_dict[post_id] = response2.choices[0].message.content\n",
    "\n",
    "    # Store results in dictionary\n",
    "    results.append({\n",
    "        \"id\": post_id,\n",
    "        \"title\": title,\n",
    "        \"link_flair_text\": link_flair_text,\n",
    "        \"selftext\": body,\n",
    "        \"num_comments\": num_comments,\n",
    "        \"comment_score\": comment_score,\n",
    "        \"generated_response_prompt1\": response1.choices[0].message.content,\n",
    "        \"generated_response_prompt2\": response2.choices[0].message.content\n",
    "    })\n",
    "\n",
    "# Save model outputs as JSON files\n",
    "with open(\"generated_responses_prompt1.json\", \"w\") as f:\n",
    "    json.dump(results_prompt1_dict, f, indent=4)\n",
    "\n",
    "with open(\"generated_responses_prompt2.json\", \"w\") as f:\n",
    "    json.dump(results_prompt2_dict, f, indent=4)\n",
    "\n",
    "df_final = pd.DataFrame(results)\n",
    "\n",
    "df_final.to_csv(\"final_generated_responses.csv\", index=False)\n",
    "\n",
    "print(f\"Processed {len(df_final)} posts. Results saved to 'final_generated_responses.csv'.\")\n"
   ]
  },
  {
   "cell_type": "code",
   "execution_count": 20,
   "metadata": {},
   "outputs": [],
   "source": [
    "df_final = df_final.merge(\n",
    "    physician_responded_posts_df[[\"clean_link_id\", \"physician_comments\"]],\n",
    "    left_on=\"id\", \n",
    "    right_on=\"clean_link_id\", \n",
    "    how=\"left\"\n",
    ")\n",
    "\n",
    "df_final.drop(columns=[\"clean_link_id\"], inplace=True)\n",
    "\n",
    "# Save the corrected dataset\n",
    "df_final.to_csv(\"final_generated_responses_corrected.csv\", index=False)"
   ]
  },
  {
   "cell_type": "code",
   "execution_count": 21,
   "metadata": {},
   "outputs": [
    {
     "data": {
      "text/plain": [
       "Index(['id', 'title', 'link_flair_text', 'selftext', 'num_comments',\n",
       "       'comment_score', 'generated_response_prompt1',\n",
       "       'generated_response_prompt2', 'physician_comments'],\n",
       "      dtype='object')"
      ]
     },
     "execution_count": 21,
     "metadata": {},
     "output_type": "execute_result"
    }
   ],
   "source": [
    "df_final.columns"
   ]
  },
  {
   "cell_type": "code",
   "execution_count": null,
   "metadata": {},
   "outputs": [],
   "source": []
  }
 ],
 "metadata": {
  "kernelspec": {
   "display_name": "base",
   "language": "python",
   "name": "python3"
  },
  "language_info": {
   "codemirror_mode": {
    "name": "ipython",
    "version": 3
   },
   "file_extension": ".py",
   "mimetype": "text/x-python",
   "name": "python",
   "nbconvert_exporter": "python",
   "pygments_lexer": "ipython3",
   "version": "3.11.5"
  }
 },
 "nbformat": 4,
 "nbformat_minor": 2
}
