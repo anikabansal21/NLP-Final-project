{
 "cells": [
  {
   "cell_type": "code",
   "execution_count": 11,
   "metadata": {},
   "outputs": [],
   "source": [
    "import pandas as pd\n",
    "import numpy as np\n",
    "import json\n",
    "from together import Together\n",
    "import os\n",
    "from dotenv import load_dotenv\n",
    "from together import Together\n",
    "\n",
    "os.chdir(\"C:\\\\Users\\\\siyak\\\\NLP-Final-Project\")\n"
   ]
  },
  {
   "cell_type": "code",
   "execution_count": 1,
   "metadata": {},
   "outputs": [
    {
     "ename": "NameError",
     "evalue": "name 'Together' is not defined",
     "output_type": "error",
     "traceback": [
      "\u001b[0;31m---------------------------------------------------------------------------\u001b[0m",
      "\u001b[0;31mNameError\u001b[0m                                 Traceback (most recent call last)",
      "Cell \u001b[0;32mIn[1], line 2\u001b[0m\n\u001b[1;32m      1\u001b[0m API_KEY \u001b[38;5;241m=\u001b[39m \u001b[38;5;124m\"\u001b[39m\u001b[38;5;124m69345dcf4dfc4e5222bb99aabeb24904e74ff20e4ea70c83cd89422ef8620bd8\u001b[39m\u001b[38;5;124m\"\u001b[39m  \n\u001b[0;32m----> 2\u001b[0m client \u001b[38;5;241m=\u001b[39m Together(api_key\u001b[38;5;241m=\u001b[39mAPI_KEY)\n\u001b[1;32m      4\u001b[0m \u001b[38;5;28;01mimport\u001b[39;00m \u001b[38;5;21;01mcsv\u001b[39;00m\n\u001b[1;32m      6\u001b[0m high_engagement_posts \u001b[38;5;241m=\u001b[39m []\n",
      "\u001b[0;31mNameError\u001b[0m: name 'Together' is not defined"
     ]
    }
   ],
   "source": [
    "API_KEY = \"69345dcf4dfc4e5222bb99aabeb24904e74ff20e4ea70c83cd89422ef8620bd8\"  \n",
    "client = Together(api_key=API_KEY)\n",
    "\n",
    "import csv\n",
    "\n",
    "high_engagement_posts = []\n",
    "\n",
    "with open(\"selected_posts_with_physician_comments.csv\", \"r\", encoding=\"utf-8\") as f:\n",
    "    reader = csv.DictReader(f)  # Read as CSV\n",
    "    for row in reader:\n",
    "        if int(row.get(\"score\", 0)) > 0:  # Ensure score is numeric\n",
    "            high_engagement_posts.append(row)\n",
    "\n",
    "if not high_engagement_posts:\n",
    "    print(\"No high-engagement posts found.\")\n",
    "    exit()"
   ]
  },
  {
   "cell_type": "code",
   "execution_count": 13,
   "metadata": {},
   "outputs": [],
   "source": [
    "high_engagement_posts.sort(key=lambda x: x.get(\"score\", 0), reverse=True)\n",
    "\n",
    "# Select top 50% of posts to get posts with the most engagement\n",
    "top_half_index = len(high_engagement_posts) // 2\n",
    "top_engagement_posts = high_engagement_posts[:top_half_index]\n",
    "\n",
    "# Only process 100 posts at first\n",
    "max_posts = min(len(top_engagement_posts), 100)\n",
    "top_engagement_posts = top_engagement_posts[:max_posts]"
   ]
  },
  {
   "cell_type": "code",
   "execution_count": 14,
   "metadata": {},
   "outputs": [],
   "source": [
    "df_selected_posts = pd.DataFrame(top_engagement_posts)\n",
    "df_selected_posts.to_csv(\"selected_posts_with_comments.csv\", index=False)"
   ]
  },
  {
   "cell_type": "code",
   "execution_count": 15,
   "metadata": {},
   "outputs": [
    {
     "name": "stdout",
     "output_type": "stream",
     "text": [
      "Processed 47 posts. Results saved to 'prompt1_responses_with_physician_comments.csv.csv' and 'prompt2_responses_with_physician_comments.csv.csv'.\n"
     ]
    }
   ],
   "source": [
    "results_prompt1 = []\n",
    "results_prompt2 = []\n",
    "\n",
    "for post in top_engagement_posts:\n",
    "    post_id = post.get(\"id\", \"No id\")\n",
    "    title = post.get(\"title\", \"No title\")\n",
    "    body = post.get(\"selftext\", \"No content available\")\n",
    "    score = post.get(\"score\", 0)\n",
    "\n",
    "    # Prompt 1: Naive Approach - Medical Diagnosis Suggestion\n",
    "    prompt1 = (\n",
    "        f\"Based on the following symptoms, list possible medical conditions and recommend \"\n",
    "        f\"the next diagnostic tests or evaluations a doctor might order. \"\n",
    "        f\"Symptoms: {body}. Include brief justifications for each recommendation.\"\n",
    "    )\n",
    "\n",
    "    response1 = client.chat.completions.create(\n",
    "        model=\"meta-llama/Llama-3.3-70B-Instruct-Turbo\",\n",
    "        messages=[{\"role\": \"user\", \"content\": prompt1}],\n",
    "    )\n",
    "\n",
    "    # Prompt 2: Reddit-Style Physician Response\n",
    "    prompt2 = (\n",
    "        f\"You're replying to a Reddit post in r/AskDocs. The post asks: {body}. \"\n",
    "        f\"Write a comment like a real Reddit user who is a verified physician.\"\n",
    "    )\n",
    "\n",
    "    response2 = client.chat.completions.create(\n",
    "        model=\"meta-llama/Llama-3.3-70B-Instruct-Turbo\",\n",
    "        messages=[{\"role\": \"user\", \"content\": prompt2}],\n",
    "    )\n",
    "\n",
    "    common_data = {\"id\": id, \"title\": title, \"body\": body, \"score\": score}\n",
    "\n",
    "    results_prompt1.append({**common_data, \"generated_response\": response1.choices[0].message.content})\n",
    "    results_prompt2.append({**common_data, \"generated_response\": response2.choices[0].message.content})\n",
    "\n",
    "df_prompt1 = pd.DataFrame(results_prompt1)\n",
    "df_prompt2 = pd.DataFrame(results_prompt2)\n",
    "\n",
    "df_prompt1.to_csv(\"prompt1_responses_with_physician_comments.csv\", index=False)\n",
    "df_prompt2.to_csv(\"prompt2_responses_with_physician_comments.csv\", index=False)\n",
    "\n",
    "print(f\"Processed {len(results_prompt1)} posts. Results saved to 'prompt1_responses_with_physician_comments.csv' and 'prompt2_responses_with_physician_comments.csv'.\")"
   ]
  },
  {
   "cell_type": "code",
   "execution_count": null,
   "metadata": {},
   "outputs": [],
   "source": []
  }
 ],
 "metadata": {
  "kernelspec": {
   "display_name": "base",
   "language": "python",
   "name": "python3"
  },
  "language_info": {
   "codemirror_mode": {
    "name": "ipython",
    "version": 3
   },
   "file_extension": ".py",
   "mimetype": "text/x-python",
   "name": "python",
   "nbconvert_exporter": "python",
   "pygments_lexer": "ipython3",
   "version": "3.11.5"
  }
 },
 "nbformat": 4,
 "nbformat_minor": 2
}
