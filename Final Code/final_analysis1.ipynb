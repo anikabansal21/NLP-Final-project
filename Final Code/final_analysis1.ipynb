{
 "cells": [
  {
   "cell_type": "code",
   "execution_count": 21,
   "metadata": {},
   "outputs": [
    {
     "name": "stdout",
     "output_type": "stream",
     "text": [
      "INFO:tensorflow:Reading checkpoint ../BLEURT-20.\n"
     ]
    },
    {
     "name": "stderr",
     "output_type": "stream",
     "text": [
      "INFO:tensorflow:Reading checkpoint ../BLEURT-20.\n"
     ]
    },
    {
     "name": "stdout",
     "output_type": "stream",
     "text": [
      "INFO:tensorflow:Config file found, reading.\n"
     ]
    },
    {
     "name": "stderr",
     "output_type": "stream",
     "text": [
      "INFO:tensorflow:Config file found, reading.\n"
     ]
    },
    {
     "name": "stdout",
     "output_type": "stream",
     "text": [
      "INFO:tensorflow:Will load checkpoint BLEURT-20\n"
     ]
    },
    {
     "name": "stderr",
     "output_type": "stream",
     "text": [
      "INFO:tensorflow:Will load checkpoint BLEURT-20\n"
     ]
    },
    {
     "name": "stdout",
     "output_type": "stream",
     "text": [
      "INFO:tensorflow:Loads full paths and checks that files exists.\n"
     ]
    },
    {
     "name": "stderr",
     "output_type": "stream",
     "text": [
      "INFO:tensorflow:Loads full paths and checks that files exists.\n"
     ]
    },
    {
     "name": "stdout",
     "output_type": "stream",
     "text": [
      "INFO:tensorflow:... name:BLEURT-20\n"
     ]
    },
    {
     "name": "stderr",
     "output_type": "stream",
     "text": [
      "INFO:tensorflow:... name:BLEURT-20\n"
     ]
    },
    {
     "name": "stdout",
     "output_type": "stream",
     "text": [
      "INFO:tensorflow:... bert_config_file:bert_config.json\n"
     ]
    },
    {
     "name": "stderr",
     "output_type": "stream",
     "text": [
      "INFO:tensorflow:... bert_config_file:bert_config.json\n"
     ]
    },
    {
     "name": "stdout",
     "output_type": "stream",
     "text": [
      "INFO:tensorflow:... max_seq_length:512\n"
     ]
    },
    {
     "name": "stderr",
     "output_type": "stream",
     "text": [
      "INFO:tensorflow:... max_seq_length:512\n"
     ]
    },
    {
     "name": "stdout",
     "output_type": "stream",
     "text": [
      "INFO:tensorflow:... vocab_file:None\n"
     ]
    },
    {
     "name": "stderr",
     "output_type": "stream",
     "text": [
      "INFO:tensorflow:... vocab_file:None\n"
     ]
    },
    {
     "name": "stdout",
     "output_type": "stream",
     "text": [
      "INFO:tensorflow:... do_lower_case:None\n"
     ]
    },
    {
     "name": "stderr",
     "output_type": "stream",
     "text": [
      "INFO:tensorflow:... do_lower_case:None\n"
     ]
    },
    {
     "name": "stdout",
     "output_type": "stream",
     "text": [
      "INFO:tensorflow:... sp_model:sent_piece\n"
     ]
    },
    {
     "name": "stderr",
     "output_type": "stream",
     "text": [
      "INFO:tensorflow:... sp_model:sent_piece\n"
     ]
    },
    {
     "name": "stdout",
     "output_type": "stream",
     "text": [
      "INFO:tensorflow:... dynamic_seq_length:True\n"
     ]
    },
    {
     "name": "stderr",
     "output_type": "stream",
     "text": [
      "INFO:tensorflow:... dynamic_seq_length:True\n"
     ]
    },
    {
     "name": "stdout",
     "output_type": "stream",
     "text": [
      "INFO:tensorflow:Creating BLEURT scorer.\n"
     ]
    },
    {
     "name": "stderr",
     "output_type": "stream",
     "text": [
      "INFO:tensorflow:Creating BLEURT scorer.\n"
     ]
    },
    {
     "name": "stdout",
     "output_type": "stream",
     "text": [
      "INFO:tensorflow:Creating SentencePiece tokenizer.\n"
     ]
    },
    {
     "name": "stderr",
     "output_type": "stream",
     "text": [
      "INFO:tensorflow:Creating SentencePiece tokenizer.\n"
     ]
    },
    {
     "name": "stdout",
     "output_type": "stream",
     "text": [
      "INFO:tensorflow:Creating SentencePiece tokenizer.\n"
     ]
    },
    {
     "name": "stderr",
     "output_type": "stream",
     "text": [
      "INFO:tensorflow:Creating SentencePiece tokenizer.\n"
     ]
    },
    {
     "name": "stdout",
     "output_type": "stream",
     "text": [
      "INFO:tensorflow:Will load model: ../BLEURT-20/sent_piece.model.\n"
     ]
    },
    {
     "name": "stderr",
     "output_type": "stream",
     "text": [
      "INFO:tensorflow:Will load model: ../BLEURT-20/sent_piece.model.\n"
     ]
    },
    {
     "name": "stdout",
     "output_type": "stream",
     "text": [
      "INFO:tensorflow:SentencePiece tokenizer created.\n"
     ]
    },
    {
     "name": "stderr",
     "output_type": "stream",
     "text": [
      "INFO:tensorflow:SentencePiece tokenizer created.\n"
     ]
    },
    {
     "name": "stdout",
     "output_type": "stream",
     "text": [
      "INFO:tensorflow:Creating Eager Mode predictor.\n"
     ]
    },
    {
     "name": "stderr",
     "output_type": "stream",
     "text": [
      "INFO:tensorflow:Creating Eager Mode predictor.\n"
     ]
    },
    {
     "name": "stdout",
     "output_type": "stream",
     "text": [
      "INFO:tensorflow:Loading model.\n"
     ]
    },
    {
     "name": "stderr",
     "output_type": "stream",
     "text": [
      "INFO:tensorflow:Loading model.\n"
     ]
    },
    {
     "name": "stdout",
     "output_type": "stream",
     "text": [
      "INFO:tensorflow:BLEURT initialized.\n"
     ]
    },
    {
     "name": "stderr",
     "output_type": "stream",
     "text": [
      "INFO:tensorflow:BLEURT initialized.\n"
     ]
    },
    {
     "name": "stdout",
     "output_type": "stream",
     "text": [
      "[0.6768419742584229]\n"
     ]
    }
   ],
   "source": [
    "# BLUERT demo\n",
    "from bleurt import score\n",
    "\n",
    "references = [\"This is a test.\"]\n",
    "candidates = [\"This isn't a test.\"]\n",
    "\n",
    "bleurt_scorer = score.BleurtScorer('../BLEURT-20')\n",
    "scores = bleurt_scorer.score(references=references, candidates=candidates)\n",
    "assert isinstance(scores, list) and len(scores) == 1\n",
    "print(scores)"
   ]
  },
  {
   "cell_type": "code",
   "execution_count": 22,
   "metadata": {},
   "outputs": [
    {
     "name": "stderr",
     "output_type": "stream",
     "text": [
      "2it [00:03,  1.50s/it]/Users/dhirpalshah/miniconda3/envs/condavenv/lib/python3.8/site-packages/nltk/translate/bleu_score.py:577: UserWarning: \n",
      "The hypothesis contains 0 counts of 2-gram overlaps.\n",
      "Therefore the BLEU score evaluates to 0, independently of\n",
      "how many N-gram overlaps of lower order it contains.\n",
      "Consider using lower n-gram order or use SmoothingFunction()\n",
      "  warnings.warn(_msg)\n",
      "/Users/dhirpalshah/miniconda3/envs/condavenv/lib/python3.8/site-packages/nltk/translate/bleu_score.py:577: UserWarning: \n",
      "The hypothesis contains 0 counts of 3-gram overlaps.\n",
      "Therefore the BLEU score evaluates to 0, independently of\n",
      "how many N-gram overlaps of lower order it contains.\n",
      "Consider using lower n-gram order or use SmoothingFunction()\n",
      "  warnings.warn(_msg)\n",
      "/Users/dhirpalshah/miniconda3/envs/condavenv/lib/python3.8/site-packages/nltk/translate/bleu_score.py:577: UserWarning: \n",
      "The hypothesis contains 0 counts of 4-gram overlaps.\n",
      "Therefore the BLEU score evaluates to 0, independently of\n",
      "how many N-gram overlaps of lower order it contains.\n",
      "Consider using lower n-gram order or use SmoothingFunction()\n",
      "  warnings.warn(_msg)\n",
      "/Users/dhirpalshah/miniconda3/envs/condavenv/lib/python3.8/site-packages/nltk/translate/bleu_score.py:577: UserWarning: \n",
      "The hypothesis contains 0 counts of 2-gram overlaps.\n",
      "Therefore the BLEU score evaluates to 0, independently of\n",
      "how many N-gram overlaps of lower order it contains.\n",
      "Consider using lower n-gram order or use SmoothingFunction()\n",
      "  warnings.warn(_msg)\n",
      "/Users/dhirpalshah/miniconda3/envs/condavenv/lib/python3.8/site-packages/nltk/translate/bleu_score.py:577: UserWarning: \n",
      "The hypothesis contains 0 counts of 3-gram overlaps.\n",
      "Therefore the BLEU score evaluates to 0, independently of\n",
      "how many N-gram overlaps of lower order it contains.\n",
      "Consider using lower n-gram order or use SmoothingFunction()\n",
      "  warnings.warn(_msg)\n",
      "/Users/dhirpalshah/miniconda3/envs/condavenv/lib/python3.8/site-packages/nltk/translate/bleu_score.py:577: UserWarning: \n",
      "The hypothesis contains 0 counts of 4-gram overlaps.\n",
      "Therefore the BLEU score evaluates to 0, independently of\n",
      "how many N-gram overlaps of lower order it contains.\n",
      "Consider using lower n-gram order or use SmoothingFunction()\n",
      "  warnings.warn(_msg)\n",
      "/Users/dhirpalshah/miniconda3/envs/condavenv/lib/python3.8/site-packages/nltk/translate/bleu_score.py:577: UserWarning: \n",
      "The hypothesis contains 0 counts of 2-gram overlaps.\n",
      "Therefore the BLEU score evaluates to 0, independently of\n",
      "how many N-gram overlaps of lower order it contains.\n",
      "Consider using lower n-gram order or use SmoothingFunction()\n",
      "  warnings.warn(_msg)\n",
      "/Users/dhirpalshah/miniconda3/envs/condavenv/lib/python3.8/site-packages/nltk/translate/bleu_score.py:577: UserWarning: \n",
      "The hypothesis contains 0 counts of 3-gram overlaps.\n",
      "Therefore the BLEU score evaluates to 0, independently of\n",
      "how many N-gram overlaps of lower order it contains.\n",
      "Consider using lower n-gram order or use SmoothingFunction()\n",
      "  warnings.warn(_msg)\n",
      "/Users/dhirpalshah/miniconda3/envs/condavenv/lib/python3.8/site-packages/nltk/translate/bleu_score.py:577: UserWarning: \n",
      "The hypothesis contains 0 counts of 4-gram overlaps.\n",
      "Therefore the BLEU score evaluates to 0, independently of\n",
      "how many N-gram overlaps of lower order it contains.\n",
      "Consider using lower n-gram order or use SmoothingFunction()\n",
      "  warnings.warn(_msg)\n",
      "5it [2:12:42, 1592.53s/it]\n"
     ]
    },
    {
     "data": {
      "text/html": [
       "<div>\n",
       "<style scoped>\n",
       "    .dataframe tbody tr th:only-of-type {\n",
       "        vertical-align: middle;\n",
       "    }\n",
       "\n",
       "    .dataframe tbody tr th {\n",
       "        vertical-align: top;\n",
       "    }\n",
       "\n",
       "    .dataframe thead th {\n",
       "        text-align: right;\n",
       "    }\n",
       "</style>\n",
       "<table border=\"1\" class=\"dataframe\">\n",
       "  <thead>\n",
       "    <tr style=\"text-align: right;\">\n",
       "      <th></th>\n",
       "      <th>id</th>\n",
       "      <th>Cosine_Sim_1_2</th>\n",
       "      <th>Cosine_Sim_1_s</th>\n",
       "      <th>Cosine_Sim_2_s</th>\n",
       "      <th>Jaccard_Sim_1_2</th>\n",
       "      <th>Jaccard_Sim_1_s</th>\n",
       "      <th>Jaccard_Sim_2_s</th>\n",
       "      <th>BLEU_Sim_1_2</th>\n",
       "      <th>BLEU_Sim_1_s</th>\n",
       "      <th>BLEU_Sim_2_s</th>\n",
       "      <th>ROUGE_L_Sim_1_2</th>\n",
       "      <th>ROUGE_L_Sim_1_s</th>\n",
       "      <th>ROUGE_L_Sim_2_s</th>\n",
       "      <th>BLEURT_Sim_1_2</th>\n",
       "      <th>BLEURT_Sim_1_s</th>\n",
       "      <th>BLEURT_Sim_2_s</th>\n",
       "    </tr>\n",
       "  </thead>\n",
       "  <tbody>\n",
       "    <tr>\n",
       "      <th>0</th>\n",
       "      <td>1i7s0u</td>\n",
       "      <td>0.615637</td>\n",
       "      <td>0.147181</td>\n",
       "      <td>0.158438</td>\n",
       "      <td>0.260355</td>\n",
       "      <td>0.094463</td>\n",
       "      <td>0.108108</td>\n",
       "      <td>6.937001e-232</td>\n",
       "      <td>8.468579e-232</td>\n",
       "      <td>8.210873e-232</td>\n",
       "      <td>0.227477</td>\n",
       "      <td>0.068249</td>\n",
       "      <td>0.106870</td>\n",
       "      <td>0.482898</td>\n",
       "      <td>0.386397</td>\n",
       "      <td>0.413004</td>\n",
       "    </tr>\n",
       "    <tr>\n",
       "      <th>1</th>\n",
       "      <td>1i7qst</td>\n",
       "      <td>0.595062</td>\n",
       "      <td>0.276439</td>\n",
       "      <td>0.502346</td>\n",
       "      <td>0.247265</td>\n",
       "      <td>0.106250</td>\n",
       "      <td>0.103245</td>\n",
       "      <td>6.366011e-232</td>\n",
       "      <td>8.859356e-232</td>\n",
       "      <td>8.793483e-232</td>\n",
       "      <td>0.191529</td>\n",
       "      <td>0.088106</td>\n",
       "      <td>0.082409</td>\n",
       "      <td>0.492618</td>\n",
       "      <td>0.448725</td>\n",
       "      <td>0.449826</td>\n",
       "    </tr>\n",
       "    <tr>\n",
       "      <th>2</th>\n",
       "      <td>1i7hzo</td>\n",
       "      <td>0.454754</td>\n",
       "      <td>0.243526</td>\n",
       "      <td>0.293155</td>\n",
       "      <td>0.182254</td>\n",
       "      <td>0.078292</td>\n",
       "      <td>0.082803</td>\n",
       "      <td>6.509495e-232</td>\n",
       "      <td>9.405151e-232</td>\n",
       "      <td>9.526533e-232</td>\n",
       "      <td>0.147692</td>\n",
       "      <td>0.058158</td>\n",
       "      <td>0.076923</td>\n",
       "      <td>0.453372</td>\n",
       "      <td>0.441486</td>\n",
       "      <td>0.435190</td>\n",
       "    </tr>\n",
       "    <tr>\n",
       "      <th>3</th>\n",
       "      <td>1iawxh</td>\n",
       "      <td>0.424313</td>\n",
       "      <td>0.170060</td>\n",
       "      <td>0.221752</td>\n",
       "      <td>0.170604</td>\n",
       "      <td>0.068966</td>\n",
       "      <td>0.085911</td>\n",
       "      <td>7.104354e-232</td>\n",
       "      <td>8.187295e-232</td>\n",
       "      <td>8.324944e-232</td>\n",
       "      <td>0.144578</td>\n",
       "      <td>0.073365</td>\n",
       "      <td>0.097996</td>\n",
       "      <td>0.392633</td>\n",
       "      <td>0.415364</td>\n",
       "      <td>0.405747</td>\n",
       "    </tr>\n",
       "    <tr>\n",
       "      <th>4</th>\n",
       "      <td>1i9v7i</td>\n",
       "      <td>0.393324</td>\n",
       "      <td>0.216343</td>\n",
       "      <td>0.203745</td>\n",
       "      <td>0.154229</td>\n",
       "      <td>0.096573</td>\n",
       "      <td>0.127660</td>\n",
       "      <td>7.150224e-232</td>\n",
       "      <td>8.589594e-232</td>\n",
       "      <td>8.474271e-232</td>\n",
       "      <td>0.131579</td>\n",
       "      <td>0.075812</td>\n",
       "      <td>0.111111</td>\n",
       "      <td>0.499030</td>\n",
       "      <td>0.419665</td>\n",
       "      <td>0.467124</td>\n",
       "    </tr>\n",
       "  </tbody>\n",
       "</table>\n",
       "</div>"
      ],
      "text/plain": [
       "       id  Cosine_Sim_1_2  Cosine_Sim_1_s  Cosine_Sim_2_s  Jaccard_Sim_1_2  \\\n",
       "0  1i7s0u        0.615637        0.147181        0.158438         0.260355   \n",
       "1  1i7qst        0.595062        0.276439        0.502346         0.247265   \n",
       "2  1i7hzo        0.454754        0.243526        0.293155         0.182254   \n",
       "3  1iawxh        0.424313        0.170060        0.221752         0.170604   \n",
       "4  1i9v7i        0.393324        0.216343        0.203745         0.154229   \n",
       "\n",
       "   Jaccard_Sim_1_s  Jaccard_Sim_2_s   BLEU_Sim_1_2   BLEU_Sim_1_s  \\\n",
       "0         0.094463         0.108108  6.937001e-232  8.468579e-232   \n",
       "1         0.106250         0.103245  6.366011e-232  8.859356e-232   \n",
       "2         0.078292         0.082803  6.509495e-232  9.405151e-232   \n",
       "3         0.068966         0.085911  7.104354e-232  8.187295e-232   \n",
       "4         0.096573         0.127660  7.150224e-232  8.589594e-232   \n",
       "\n",
       "    BLEU_Sim_2_s  ROUGE_L_Sim_1_2  ROUGE_L_Sim_1_s  ROUGE_L_Sim_2_s  \\\n",
       "0  8.210873e-232         0.227477         0.068249         0.106870   \n",
       "1  8.793483e-232         0.191529         0.088106         0.082409   \n",
       "2  9.526533e-232         0.147692         0.058158         0.076923   \n",
       "3  8.324944e-232         0.144578         0.073365         0.097996   \n",
       "4  8.474271e-232         0.131579         0.075812         0.111111   \n",
       "\n",
       "   BLEURT_Sim_1_2  BLEURT_Sim_1_s  BLEURT_Sim_2_s  \n",
       "0        0.482898        0.386397        0.413004  \n",
       "1        0.492618        0.448725        0.449826  \n",
       "2        0.453372        0.441486        0.435190  \n",
       "3        0.392633        0.415364        0.405747  \n",
       "4        0.499030        0.419665        0.467124  "
      ]
     },
     "execution_count": 22,
     "metadata": {},
     "output_type": "execute_result"
    }
   ],
   "source": [
    "import pandas as pd\n",
    "from sklearn.feature_extraction.text import TfidfVectorizer\n",
    "from sklearn.metrics.pairwise import cosine_similarity\n",
    "from nltk.translate.bleu_score import sentence_bleu\n",
    "from tqdm import tqdm\n",
    "\n",
    "file_path = 'Final Code/NEW_final_generated_responses_1000.csv'\n",
    "data = pd.read_csv(file_path)\n",
    "# Define Jaccard similarity function\n",
    "def jaccard_similarity(doc1, doc2):\n",
    "    words_doc1 = set(doc1.split()) \n",
    "    words_doc2 = set(doc2.split())\n",
    "    intersection = words_doc1.intersection(words_doc2)\n",
    "    union = words_doc1.union(words_doc2)\n",
    "    return float(len(intersection)) / len(union)\n",
    "\n",
    "# Define custom ROUGE-L function\n",
    "def calculate_rouge_l(reference, candidate):\n",
    "    reference_tokens = reference.split()\n",
    "    candidate_tokens = candidate.split()\n",
    "    reference_len = len(reference_tokens)\n",
    "    candidate_len = len(candidate_tokens)\n",
    "    \n",
    "    dp = [[0] * (candidate_len + 1) for _ in range(reference_len + 1)]\n",
    "    \n",
    "    for i in range(reference_len + 1):\n",
    "        for j in range(candidate_len + 1):\n",
    "            if i == 0 or j == 0:\n",
    "                dp[i][j] = 0\n",
    "            elif reference_tokens[i-1] == candidate_tokens[j-1]:\n",
    "                dp[i][j] = dp[i-1][j-1] + 1\n",
    "            else:\n",
    "                dp[i][j] = max(dp[i-1][j], dp[i][j-1])\n",
    "                \n",
    "    lcs_len = dp[reference_len][candidate_len]\n",
    "    precision = lcs_len / candidate_len if candidate_len > 0 else 0\n",
    "    recall = lcs_len / reference_len if reference_len > 0 else 0\n",
    "    f1_score = (2 * precision * recall) / (precision + recall) if (precision + recall) > 0 else 0\n",
    "    \n",
    "    return f1_score\n",
    "\n",
    "# Vectorize text for cosine similarity\n",
    "tfidf_vectorizer = TfidfVectorizer()\n",
    "tfidf_matrix = tfidf_vectorizer.fit_transform(data[['generated_response_prompt1', 'generated_response_prompt2', 'physician_comments']].values.flatten())\n",
    "\n",
    "# Calculate cosine similarities\n",
    "cosine_similarities = cosine_similarity(tfidf_matrix)\n",
    "similarity_results = pd.DataFrame(data['id'], columns=['id'])\n",
    "\n",
    "# Calculating all similarities\n",
    "similarity_functions = [cosine_similarity, jaccard_similarity, sentence_bleu, calculate_rouge_l, bleurt_scorer.score]\n",
    "labels = ['Cosine', 'Jaccard', 'BLEU', 'ROUGE_L', 'BLEURT']\n",
    "\n",
    "# Calculate all pairwise comparisons\n",
    "for func, label in tqdm(zip(similarity_functions, labels)):\n",
    "    pairs = [('generated_response_prompt1', 'generated_response_prompt2'),\n",
    "             ('generated_response_prompt1', 'physician_comments'),\n",
    "             ('generated_response_prompt2', 'physician_comments')]\n",
    "    \n",
    "    for pair in pairs:\n",
    "        col_name = f'{label}_Sim_{pair[0][-1]}_{pair[1][-1]}'\n",
    "        if func == cosine_similarity:\n",
    "            similarity_results[col_name] = [\n",
    "                func(tfidf_vectorizer.transform([row[pair[0]]]), \n",
    "                     tfidf_vectorizer.transform([row[pair[1]]]))[0, 0]\n",
    "                for index, row in data.iterrows()\n",
    "            ]\n",
    "        elif label == 'BLEURT':  # BLEURT scoring requires a slightly different approach\n",
    "            similarity_results[col_name] = [\n",
    "                func(references=[row[pair[0]]], candidates=[row[pair[1]]])[0]\n",
    "                for index, row in data.iterrows()\n",
    "            ]\n",
    "        else:\n",
    "            similarity_results[col_name] = [\n",
    "                func(row[pair[0]], row[pair[1]])\n",
    "                for index, row in data.iterrows()\n",
    "            ]\n",
    "\n",
    "similarity_results.head()"
   ]
  },
  {
   "cell_type": "code",
   "execution_count": 23,
   "metadata": {},
   "outputs": [],
   "source": [
    "similarity_results.to_csv(\"Final Code/NEW_final_analysis.csv\", index=False)"
   ]
  },
  {
   "cell_type": "code",
   "execution_count": 51,
   "metadata": {},
   "outputs": [
    {
     "data": {
      "image/png": "[encoded data removed]",
      "text/plain": [
       "<Figure size 2000x600 with 5 Axes>"
      ]
     },
     "metadata": {},
     "output_type": "display_data"
    }
   ],
   "source": [
    "import matplotlib.pyplot as plt\n",
    "\n",
    "data = pd.read_csv('Final Code/NEW_final_analysis.csv')\n",
    "metrics = ['Cosine_Sim', 'Jaccard_Sim', 'BLEU_Sim', 'ROUGE_L_Sim', 'BLEURT_Sim']\n",
    "comparisons = ['1_2', '1_s', '2_s']\n",
    "legend_labels = ['Naive vs Reddit Prompted', 'Naive vs Physician Response', 'Reddit Prompted vs Physician Response']\n",
    "colors = ['skyblue', 'purple', 'seagreen']\n",
    "\n",
    "# Set up the boxplot with specific colors for each box, add a legend, and ensure each plot has its own y-axis labels\n",
    "fig, axes = plt.subplots(nrows=1, ncols=5, figsize=(20, 6))\n",
    "\n",
    "# Create a boxplot for each metric with specified colors, add a legend, and ensure y-axis labels\n",
    "for i, metric in enumerate(metrics):\n",
    "    # Prepare data and colors for each comparison type for the current metric\n",
    "    metric_data = [data[f\"{metric}_{comp}\"] for comp in comparisons]\n",
    "    bplot = axes[i].boxplot(metric_data, patch_artist=True)\n",
    "    \n",
    "    # Apply colors to each box\n",
    "    for patch, color in zip(bplot['boxes'], colors):\n",
    "        patch.set_facecolor(color)\n",
    "    \n",
    "    axes[i].set_title(f'{metric} Comparisons')\n",
    "    axes[i].set_xticklabels([])  # Remove x-axis labels\n",
    "    axes[i].set_ylabel('Similarity Score')  # Add y-axis labels\n",
    "\n",
    "# Add a custom legend to the figure\n",
    "# legend_patches = [plt.Line2D([0], [0], color=color, lw=4, label=label) for color, label in zip(colors, legend_labels)]\n",
    "# fig.legend(handles=legend_patches, loc='upper right', bbox_to_anchor=(1, 0.9))\n",
    "\n",
    "# Adjust layout and display the boxplots with legend\n",
    "plt.tight_layout(rect=[0, 0, 1, 1])  # Adjust the right margin to fit the legend\n",
    "plt.show()\n"
   ]
  }
 ],
 "metadata": {
  "kernelspec": {
   "display_name": "condavenv",
   "language": "python",
   "name": "python3"
  },
  "language_info": {
   "codemirror_mode": {
    "name": "ipython",
    "version": 3
   },
   "file_extension": ".py",
   "mimetype": "text/x-python",
   "name": "python",
   "nbconvert_exporter": "python",
   "pygments_lexer": "ipython3",
   "version": "3.8.13"
  }
 },
 "nbformat": 4,
 "nbformat_minor": 2
}
