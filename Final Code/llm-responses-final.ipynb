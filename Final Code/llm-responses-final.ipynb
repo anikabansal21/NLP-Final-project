{
 "cells": [
  {
   "cell_type": "code",
   "execution_count": 14,
   "metadata": {},
   "outputs": [],
   "source": [
    "import pandas as pd\n",
    "import numpy as np\n",
    "import json\n",
    "from together import Together\n",
    "import os\n",
    "from dotenv import load_dotenv\n",
    "from together import Together\n",
    "\n",
    "# Load API key from .env file\n",
    "load_dotenv()\n",
    "API_KEY = os.getenv(\"TOGETHER_API_KEY\")\n",
    "client = Together(api_key=API_KEY)"
   ]
  },
  {
   "cell_type": "code",
   "execution_count": 15,
   "metadata": {},
   "outputs": [],
   "source": [
    "physician_responded_posts_df = pd.read_csv(\"merged_physician_submissions_1000.csv\")"
   ]
  },
  {
   "cell_type": "code",
   "execution_count": 4,
   "metadata": {},
   "outputs": [
    {
     "data": {
      "text/plain": [
       "0      1i7s0u\n",
       "1      1i7qst\n",
       "2      1i7hzo\n",
       "3      1iawxh\n",
       "4      1i9v7i\n",
       "        ...  \n",
       "995    2c49tv\n",
       "996    2c4sfy\n",
       "997    2c50li\n",
       "998    2c5me7\n",
       "999    2cbtkn\n",
       "Name: clean_link_id, Length: 1000, dtype: object"
      ]
     },
     "execution_count": 4,
     "metadata": {},
     "output_type": "execute_result"
    }
   ],
   "source": [
    "physician_responded_posts_df[\"clean_link_id\"]"
   ]
  },
  {
   "cell_type": "code",
   "execution_count": 17,
   "metadata": {},
   "outputs": [
    {
     "data": {
      "text/plain": [
       "0      Although I don't know anything about the creat...\n",
       "1      Sounds like he has COPD since you say his lung...\n",
       "2      Is there any family history of colon cancer or...\n",
       "3      Rosacea is a difficult dermatological conditio...\n",
       "4      There's a difference between panic disorder an...\n",
       "                             ...                        \n",
       "995    That looks pretty innocent to me. Belly button...\n",
       "996    There really is not much to do. There is a tub...\n",
       "997    Haha no, you are not. Superman doesn't get sec...\n",
       "998                                       That's a scam.\n",
       "999    This sounds a lot like excersize induced asthm...\n",
       "Name: physician_comments, Length: 1000, dtype: object"
      ]
     },
     "execution_count": 17,
     "metadata": {},
     "output_type": "execute_result"
    }
   ],
   "source": [
    "physician_responded_posts_df['physician_comments']"
   ]
  },
  {
   "cell_type": "code",
   "execution_count": 7,
   "metadata": {},
   "outputs": [
    {
     "name": "stdout",
     "output_type": "stream",
     "text": [
      "Processed 1000 posts. Results saved to 'final_generated_responses_1000.csv'.\n"
     ]
    }
   ],
   "source": [
    "# Prepare storage for results\n",
    "results = []\n",
    "\n",
    "# Store output of models separately\n",
    "results_prompt1_dict = {}\n",
    "results_prompt2_dict = {}\n",
    "\n",
    "for _, post in physician_responded_posts_df.iterrows():\n",
    "    post_id = post.get(\"clean_link_id\", \"No id\")\n",
    "    title = post.get(\"title\", \"No title\")\n",
    "    link_flair_text = post.get(\"link_flair_text\", \"No flair\")\n",
    "    body = post.get(\"selftext\", \"No content available\")\n",
    "    num_comments = post.get(\"num_comments\", 0)\n",
    "    comment_score = post.get(\"score_comment\", 0)\n",
    "    \n",
    "    # Prompt 1: Medical Diagnosis Suggestion\n",
    "    prompt1 = (\n",
    "        f\"Based on the following symptoms, list possible medical conditions and recommend \"\n",
    "        f\"the next diagnostic tests or evaluations a doctor might order. \"\n",
    "        f\"Symptoms: {body}. Include brief justifications for each recommendation.\"\n",
    "    )\n",
    "\n",
    "    response1 = client.chat.completions.create(\n",
    "        model=\"meta-llama/Llama-3.3-70B-Instruct-Turbo\",\n",
    "        messages=[{\"role\": \"user\", \"content\": prompt1}],\n",
    "    )\n",
    "\n",
    "    results_prompt1_dict[post_id] = response1.choices[0].message.content\n",
    "\n",
    "    # Prompt 2: Reddit-Style Physician Response\n",
    "    prompt2 = (\n",
    "        f\"You're replying to a Reddit post in r/AskDocs. The post asks: {body}. \"\n",
    "        f\"Write a comment like a real Reddit user who is a verified physician.\"\n",
    "    )\n",
    "\n",
    "    response2 = client.chat.completions.create(\n",
    "        model=\"meta-llama/Llama-3.3-70B-Instruct-Turbo\",\n",
    "        messages=[{\"role\": \"user\", \"content\": prompt2}],\n",
    "    )\n",
    "\n",
    "    results_prompt2_dict[post_id] = response2.choices[0].message.content\n",
    "\n",
    "    # Store results in dictionary\n",
    "    results.append({\n",
    "        \"id\": post_id,\n",
    "        \"title\": title,\n",
    "        \"link_flair_text\": link_flair_text,\n",
    "        \"selftext\": body,\n",
    "        \"num_comments\": num_comments,\n",
    "        \"comment_score\": comment_score,\n",
    "        \"generated_response_prompt1\": response1.choices[0].message.content,\n",
    "        \"generated_response_prompt2\": response2.choices[0].message.content\n",
    "    })\n",
    "\n",
    "# Save model outputs as JSON files\n",
    "with open(\"generated_responses_prompt1_1000.json\", \"w\") as f:\n",
    "    json.dump(results_prompt1_dict, f, indent=4)\n",
    "\n",
    "with open(\"generated_responses_prompt2_1000.json\", \"w\") as f:\n",
    "    json.dump(results_prompt2_dict, f, indent=4)\n",
    "\n",
    "df_final = pd.DataFrame(results)\n",
    "\n",
    "df_final.to_csv(\"final_generated_responses_1000.csv\", index=False)\n",
    "\n",
    "print(f\"Processed {len(df_final)} posts. Results saved to 'final_generated_responses_1000.csv'.\")\n"
   ]
  },
  {
   "cell_type": "code",
   "execution_count": 22,
   "metadata": {},
   "outputs": [
    {
     "data": {
      "text/html": [
       "<div>\n",
       "<style scoped>\n",
       "    .dataframe tbody tr th:only-of-type {\n",
       "        vertical-align: middle;\n",
       "    }\n",
       "\n",
       "    .dataframe tbody tr th {\n",
       "        vertical-align: top;\n",
       "    }\n",
       "\n",
       "    .dataframe thead th {\n",
       "        text-align: right;\n",
       "    }\n",
       "</style>\n",
       "<table border=\"1\" class=\"dataframe\">\n",
       "  <thead>\n",
       "    <tr style=\"text-align: right;\">\n",
       "      <th></th>\n",
       "      <th>id</th>\n",
       "      <th>title</th>\n",
       "      <th>link_flair_text</th>\n",
       "      <th>selftext</th>\n",
       "      <th>num_comments</th>\n",
       "      <th>comment_score</th>\n",
       "      <th>generated_response_prompt1</th>\n",
       "      <th>generated_response_prompt2</th>\n",
       "    </tr>\n",
       "  </thead>\n",
       "  <tbody>\n",
       "    <tr>\n",
       "      <th>0</th>\n",
       "      <td>1i7s0u</td>\n",
       "      <td>Leg pain after 4ml IM injection</td>\n",
       "      <td>NaN</td>\n",
       "      <td>I'm a regular user of anabolic steroids, pepti...</td>\n",
       "      <td>9</td>\n",
       "      <td>1</td>\n",
       "      <td>Based on the symptoms described, possible medi...</td>\n",
       "      <td>**Verified Physician here**\\n\\nI'm glad you're...</td>\n",
       "    </tr>\n",
       "    <tr>\n",
       "      <th>1</th>\n",
       "      <td>1i7qst</td>\n",
       "      <td>Exhausted, out of breath</td>\n",
       "      <td>NaN</td>\n",
       "      <td>Hi everyone, Today I went to another city with...</td>\n",
       "      <td>1</td>\n",
       "      <td>1</td>\n",
       "      <td>Based on the symptoms described, possible medi...</td>\n",
       "      <td>**Verified Physician here**\\n\\nI can sense you...</td>\n",
       "    </tr>\n",
       "    <tr>\n",
       "      <th>2</th>\n",
       "      <td>1i7hzo</td>\n",
       "      <td>Do these symptoms mean I should get a colonosc...</td>\n",
       "      <td>NaN</td>\n",
       "      <td>My question is about the necessity of a colono...</td>\n",
       "      <td>9</td>\n",
       "      <td>2</td>\n",
       "      <td>Based on the symptoms described, possible medi...</td>\n",
       "      <td>**Verified Physician Comment**\\n\\nHello OP, I'...</td>\n",
       "    </tr>\n",
       "    <tr>\n",
       "      <th>3</th>\n",
       "      <td>1iawxh</td>\n",
       "      <td>How can I fight my Rosacea problem</td>\n",
       "      <td>NaN</td>\n",
       "      <td>I am a 21 year old male turning 22 next month....</td>\n",
       "      <td>3</td>\n",
       "      <td>1</td>\n",
       "      <td>Based on the symptoms described, possible medi...</td>\n",
       "      <td>**Verified Physician here**\\n\\nI feel for you,...</td>\n",
       "    </tr>\n",
       "    <tr>\n",
       "      <th>4</th>\n",
       "      <td>1i9v7i</td>\n",
       "      <td>Thought I was going to die yesterday.</td>\n",
       "      <td>NaN</td>\n",
       "      <td>I (33 M) was standing in the kitchen yesterday...</td>\n",
       "      <td>13</td>\n",
       "      <td>1</td>\n",
       "      <td>Based on the symptoms you've described, here a...</td>\n",
       "      <td>**Verified Physician here**\\n\\nI'm glad to hea...</td>\n",
       "    </tr>\n",
       "  </tbody>\n",
       "</table>\n",
       "</div>"
      ],
      "text/plain": [
       "       id                                              title  link_flair_text  \\\n",
       "0  1i7s0u                    Leg pain after 4ml IM injection              NaN   \n",
       "1  1i7qst                           Exhausted, out of breath              NaN   \n",
       "2  1i7hzo  Do these symptoms mean I should get a colonosc...              NaN   \n",
       "3  1iawxh                 How can I fight my Rosacea problem              NaN   \n",
       "4  1i9v7i              Thought I was going to die yesterday.              NaN   \n",
       "\n",
       "                                            selftext  num_comments  \\\n",
       "0  I'm a regular user of anabolic steroids, pepti...             9   \n",
       "1  Hi everyone, Today I went to another city with...             1   \n",
       "2  My question is about the necessity of a colono...             9   \n",
       "3  I am a 21 year old male turning 22 next month....             3   \n",
       "4  I (33 M) was standing in the kitchen yesterday...            13   \n",
       "\n",
       "   comment_score                         generated_response_prompt1  \\\n",
       "0              1  Based on the symptoms described, possible medi...   \n",
       "1              1  Based on the symptoms described, possible medi...   \n",
       "2              2  Based on the symptoms described, possible medi...   \n",
       "3              1  Based on the symptoms described, possible medi...   \n",
       "4              1  Based on the symptoms you've described, here a...   \n",
       "\n",
       "                          generated_response_prompt2  \n",
       "0  **Verified Physician here**\\n\\nI'm glad you're...  \n",
       "1  **Verified Physician here**\\n\\nI can sense you...  \n",
       "2  **Verified Physician Comment**\\n\\nHello OP, I'...  \n",
       "3  **Verified Physician here**\\n\\nI feel for you,...  \n",
       "4  **Verified Physician here**\\n\\nI'm glad to hea...  "
      ]
     },
     "execution_count": 22,
     "metadata": {},
     "output_type": "execute_result"
    }
   ],
   "source": [
    "NEW_df_final = pd.DataFrame(results)\n",
    "NEW_df_final.head()"
   ]
  },
  {
   "cell_type": "code",
   "execution_count": null,
   "metadata": {},
   "outputs": [],
   "source": [
    "NEW_df_final = NEW_df_final.merge(\n",
    "    physician_responded_posts_df[[\"clean_link_id\", \"physician_comments\"]],\n",
    "    left_on=\"id\", \n",
    "    right_on=\"clean_link_id\", \n",
    "    how=\"left\"\n",
    ")"
   ]
  },
  {
   "cell_type": "code",
   "execution_count": 24,
   "metadata": {},
   "outputs": [],
   "source": [
    "NEW_df_final.drop(columns=[\"clean_link_id\"], inplace=True)"
   ]
  },
  {
   "cell_type": "code",
   "execution_count": 25,
   "metadata": {},
   "outputs": [
    {
     "data": {
      "text/plain": [
       "Index(['id', 'title', 'link_flair_text', 'selftext', 'num_comments',\n",
       "       'comment_score', 'generated_response_prompt1',\n",
       "       'generated_response_prompt2', 'physician_comments'],\n",
       "      dtype='object')"
      ]
     },
     "execution_count": 25,
     "metadata": {},
     "output_type": "execute_result"
    }
   ],
   "source": [
    "NEW_df_final.columns"
   ]
  },
  {
   "cell_type": "code",
   "execution_count": 26,
   "metadata": {},
   "outputs": [],
   "source": [
    "# Save the corrected dataset\n",
    "NEW_df_final.to_csv(\"NEW_final_generated_responses_1000.csv\", index=False)"
   ]
  },
  {
   "cell_type": "code",
   "execution_count": null,
   "metadata": {},
   "outputs": [],
   "source": []
  }
 ],
 "metadata": {
  "kernelspec": {
   "display_name": "base",
   "language": "python",
   "name": "python3"
  },
  "language_info": {
   "codemirror_mode": {
    "name": "ipython",
    "version": 3
   },
   "file_extension": ".py",
   "mimetype": "text/x-python",
   "name": "python",
   "nbconvert_exporter": "python",
   "pygments_lexer": "ipython3",
   "version": "3.11.5"
  }
 },
 "nbformat": 4,
 "nbformat_minor": 2
}
