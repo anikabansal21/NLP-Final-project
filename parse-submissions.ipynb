{
 "cells": [
  {
   "cell_type": "code",
   "execution_count": 2,
   "metadata": {},
   "outputs": [],
   "source": [
    "import pandas as pd\n",
    "import numpy as np\n",
    "import json"
   ]
  },
  {
   "cell_type": "code",
   "execution_count": null,
   "metadata": {},
   "outputs": [
    {
     "name": "stdout",
     "output_type": "stream",
     "text": [
      "   over_18 thumbnail  score  ups  \\\n",
      "0    False      self      8    8   \n",
      "1    False      self      1    1   \n",
      "2    False      self      1    1   \n",
      "3    False   default      1    1   \n",
      "4    False   default      2    2   \n",
      "\n",
      "                                                 url link_flair_text  \\\n",
      "0  http://www.reddit.com/r/AskDocs/comments/1i467...            None   \n",
      "1  http://www.reddit.com/r/AskDocs/comments/1i8lp...            None   \n",
      "2  http://www.reddit.com/r/AskDocs/comments/1i8e3...            None   \n",
      "3  http://www.reddit.com/r/AskDocs/comments/1i8af...            None   \n",
      "4  http://www.reddit.com/r/AskDocs/comments/1i87i...            None   \n",
      "\n",
      "       edited                                           selftext subreddit_id  \\\n",
      "0  1373699396  ~~Welcome psychiatrometer to the subreddit! He...     t5_2xtuc   \n",
      "1       False  Hello guys, I was wondering if you could share...     t5_2xtuc   \n",
      "2  1373744170  Let's try to steer the conversation away from ...     t5_2xtuc   \n",
      "3       False  This is legit like the fifth post I've made fo...     t5_2xtuc   \n",
      "4  1373738352  I'm poor so I don't have a family doctor. I've...     t5_2xtuc   \n",
      "\n",
      "       id  \n",
      "0  1i4673  \n",
      "1  1i8lp8  \n",
      "2  1i8e3r  \n",
      "3  1i8afe  \n",
      "4  1i87in  \n"
     ]
    }
   ],
   "source": [
    "\n",
    "data = []\n",
    "with open(\"AskDocs_submissions.csv\", \"r\") as f:\n",
    "    for _ in range(10000):\n",
    "        line = f.readline()\n",
    "        if not line:\n",
    "            break\n",
    "        data.append(json.loads(line))\n",
    "\n",
    "df = pd.DataFrame(data)\n",
    "\n",
    "print(df.iloc[:, :10].head())\n",
    "\n"
   ]
  },
  {
   "cell_type": "code",
   "execution_count": 4,
   "metadata": {},
   "outputs": [
    {
     "data": {
      "text/plain": [
       "Index(['over_18', 'thumbnail', 'score', 'ups', 'url', 'link_flair_text',\n",
       "       'edited', 'selftext', 'subreddit_id', 'id', 'author', 'selftext_html',\n",
       "       'user_reports', 'author_flair_text', 'downs', 'distinguished', 'domain',\n",
       "       'subreddit', 'report_reasons', 'created_utc', 'is_self', 'permalink',\n",
       "       'stickied', 'title', 'gilded', 'secure_media', 'num_comments', 'media',\n",
       "       'mod_reports', 'link_flair_css_class', 'secure_media_embed',\n",
       "       'author_flair_css_class', 'media_embed', 'banned_by', 'retrieved_on',\n",
       "       'from_id', 'from_kind', 'created', 'quarantine', 'saved', 'name',\n",
       "       'archived', 'from', 'hide_score'],\n",
       "      dtype='object')"
      ]
     },
     "execution_count": 4,
     "metadata": {},
     "output_type": "execute_result"
    }
   ],
   "source": [
    "df.columns"
   ]
  },
  {
   "cell_type": "code",
   "execution_count": 5,
   "metadata": {},
   "outputs": [
    {
     "data": {
      "text/plain": [
       "\"Hello guys, I was wondering if you could share your thoughts on this thing I've been noticing lately.\\n\\nHow to describe it... it's like a rush of adrenaline, only there are none of the things that you would attribute to it, that is no increased heart rate, alertness of the senses, or a feeling of thrill or excitement. It feels like a sudden burst of physical (not mental) restlessness or something, or like a weakning of the muscles and it can last anywhere from a minute to maybe fifteen minutes. \\n\\nI've had this every once in a while now and it never really occured to me to ask anyone about it. It's also kind of hard to describe. Would anyone know what I'm talking about?\""
      ]
     },
     "execution_count": 5,
     "metadata": {},
     "output_type": "execute_result"
    }
   ],
   "source": [
    "df['selftext'].iloc[1]"
   ]
  },
  {
   "cell_type": "code",
   "execution_count": null,
   "metadata": {},
   "outputs": [],
   "source": [
    "from together import Together\n",
    "\n",
    "client = Together(api_key=\"9e870bfd6d4e11e60c4fb89967d54f32cb7320fca599fe247172bf1f3dc5f898\")\n",
    "\n",
    "high_engagement_posts = []\n",
    "with open(\"AskDocs_submissions.csv\", \"r\") as f:\n",
    "    for _ in range(1000):\n",
    "        line = f.readline()\n",
    "        if not line:\n",
    "            break\n",
    "        post = json.loads(line)\n",
    "\n",
    "        if post.get(\"score\", 0) > 10:\n",
    "            high_engagement_posts.append(post)\n",
    "\n",
    "if not high_engagement_posts:\n",
    "    print(\"No high-engagement posts found.\")\n",
    "    exit()"
   ]
  },
  {
   "cell_type": "code",
   "execution_count": 8,
   "metadata": {},
   "outputs": [
    {
     "name": "stdout",
     "output_type": "stream",
     "text": [
      "\n",
      "**Reddit Post Summary:**\n",
      "Based on the provided text, it appears that the \"symptoms\" are not related to a medical condition, but rather a request for medical professionals to join a subreddit community. However, if we were to interpret this as a hypothetical scenario where a patient is presenting with symptoms related to a desire for online community growth and a need for medical expertise, possible \"medical conditions\" could be:\n",
      "\n",
      "1. **Social Media Anxiety Disorder**: A condition where individuals experience anxiety or stress related to their online presence or community growth.\n",
      "2. **Information Seeking Behavior**: A condition where individuals exhibit a strong desire to seek out and share information, particularly in an online setting.\n",
      "3. **Community Building Disorder**: A condition where individuals experience a strong desire to build and grow online communities.\n",
      "\n",
      "Recommended diagnostic tests or evaluations:\n",
      "\n",
      "1. **Online Behavior Assessment**: A questionnaire or survey to assess the individual's online behavior, including their motivations for joining online communities and their experiences with social media.\n",
      "2. **Social Media Usage Evaluation**: An evaluation of the individual's social media usage patterns, including the frequency and duration of their online activities.\n",
      "3. **Community Engagement Assessment**: An assessment of the individual's engagement with online communities, including their level of participation and interaction with others.\n",
      "4. **Medical Professional Verification**: Verification of the individual's medical credentials, as requested in the original text, to ensure that they are a qualified medical professional.\n",
      "5. **Reddit Platform Analysis**: An analysis of the Reddit platform and its features, including its community building tools and resources, to better understand the individual's goals and motivations.\n",
      "\n",
      "Justifications for these recommendations:\n",
      "\n",
      "* The online behavior assessment and social media usage evaluation can help identify underlying motivations and patterns of behavior that may be contributing to the individual's desire for online community growth.\n",
      "* The community engagement assessment can provide insight into the individual's level of participation and interaction with others, which can inform strategies for building and growing online communities.\n",
      "* Medical professional verification is necessary to ensure that individuals joining the subreddit community are qualified medical professionals, as requested in the original text.\n",
      "* The Reddit platform analysis can provide a better understanding of the features and resources available on the platform, which can inform strategies for building and growing online communities.\n"
     ]
    }
   ],
   "source": [
    "\n",
    "for post in high_engagement_posts[:1]:\n",
    "    title = post.get(\"title\", \"No title\")\n",
    "    body = post.get(\"selftext\", \"No content available\")\n",
    "    prompt = f\"Based on the following symptoms, list possible medical conditions and recommend the next diagnostic tests or evaluations a doctor might order: Symptoms: {body}. Include brief justifications for each recommendation.\"\n",
    "\n",
    "\n",
    "    response = client.chat.completions.create(\n",
    "        model=\"meta-llama/Llama-3.3-70B-Instruct-Turbo\",\n",
    "        messages=[{\"role\": \"user\", \"content\": prompt}],\n",
    "    )\n",
    "\n",
    "    print(\"\\n**Reddit Post Summary:**\")\n",
    "    print(response.choices[0].message.content)\n"
   ]
  },
  {
   "cell_type": "code",
   "execution_count": null,
   "metadata": {},
   "outputs": [],
   "source": []
  }
 ],
 "metadata": {
  "kernelspec": {
   "display_name": "base",
   "language": "python",
   "name": "python3"
  },
  "language_info": {
   "codemirror_mode": {
    "name": "ipython",
    "version": 3
   },
   "file_extension": ".py",
   "mimetype": "text/x-python",
   "name": "python",
   "nbconvert_exporter": "python",
   "pygments_lexer": "ipython3",
   "version": "3.11.5"
  }
 },
 "nbformat": 4,
 "nbformat_minor": 2
}
